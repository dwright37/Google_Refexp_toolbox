{
 "cells": [
  {
   "cell_type": "code",
   "execution_count": 1,
   "metadata": {
    "collapsed": true
   },
   "outputs": [],
   "source": [
    "import scipy\n",
    "%matplotlib inline\n",
    "import numpy as np\n",
    "import skimage.io as io\n",
    "import matplotlib.pyplot as plt\n",
    "import pylab\n",
    "pylab.rcParams['figure.figsize'] = (10.0, 8.0)\n",
    "import matplotlib.patches as mpatches\n",
    "import sys\n",
    "import os\n",
    "import time\n",
    "\n",
    "# Import Refexp python class\n",
    "# Please MAKE SURE that ./google_refexp_py_lib is in your\n",
    "# python library search path\n",
    "sys.path.append(\"google_refexp_py_lib\")\n",
    "from refexp import Refexp"
   ]
  },
  {
   "cell_type": "code",
   "execution_count": 2,
   "metadata": {},
   "outputs": [
    {
     "name": "stdout",
     "output_type": "stream",
     "text": [
      "loading annotations into memory...\n",
      "Done (t=8.90s)\n",
      "creating index...\n",
      "index created!\n",
      "Dataset loaded.\n"
     ]
    }
   ],
   "source": [
    "refexp_filename='google_refexp_dataset_release/google_refexp_val_201511_coco_aligned.json'\n",
    "coco_filename='external/coco/annotations/instances_train2014.json'\n",
    "imagesDir = 'external/coco/images'\n",
    "imagesType = 'train2014'\n",
    "\n",
    "# Create Refexp instance.\n",
    "refexp = Refexp(refexp_filename, coco_filename)"
   ]
  },
  {
   "cell_type": "markdown",
   "metadata": {},
   "source": [
    "## Images from different categories"
   ]
  },
  {
   "cell_type": "code",
   "execution_count": null,
   "metadata": {},
   "outputs": [],
   "source": [
    "imgs = []\n",
    "anns = []\n",
    "catIds = refexp.getCatIds()\n",
    "for i in catIds[:20]:\n",
    "    imgIds = refexp.getImgIds(catIds=[i])\n",
    "    \n",
    "    random_sample = imgIds[np.random.randint(0, len(imgIds))]\n",
    "    imgs += refexp.loadImgs(ids=random_sample)\n",
    "\n",
    "    ann_ids = refexp.getAnnIds(imgIds=random_sample)\n",
    "    anns += refexp.loadAnns(ids=ann_ids)\n",
    "\n",
    "ref_ids = []\n",
    "for ann in anns:\n",
    "    print(ann['refexp_ids'])\n",
    "    ref_ids += ann['refexp_ids']\n",
    "refs = refexp.loadRefexps(ids=ref_ids)\n",
    "imgs = {im['image_id']: im for im in imgs}\n",
    "anns = {ann['annotation_id']:ann for ann in anns}\n",
    "refs = {ref['refexp_id']: ref for ref in refs}"
   ]
  },
  {
   "cell_type": "code",
   "execution_count": 42,
   "metadata": {
    "collapsed": true
   },
   "outputs": [],
   "source": [
    "import json\n",
    "\n",
    "with open('/home/dwright/repos/papers/Hu et al 2017/dwright-exp-image-ranking/img_ranking_experiment_data.json', 'w') as f:\n",
    "    json.dump({'images': imgs, 'annotations': anns, 'refexps': refs}, f)"
   ]
  },
  {
   "cell_type": "markdown",
   "metadata": {},
   "source": [
    "## Same category"
   ]
  },
  {
   "cell_type": "code",
   "execution_count": null,
   "metadata": {},
   "outputs": [],
   "source": [
    "imgIds = refexp.getImgIds(catIds=[1])\n",
    "\n",
    "random_sample = [imgIds[i] for i in np.random.randint(0, len(imgIds), size=20)]\n",
    "imgs = refexp.loadImgs(ids=random_sample)\n",
    "\n",
    "ann_ids = refexp.getAnnIds(imgIds=random_sample)\n",
    "anns = refexp.loadAnns(ids=ann_ids)\n",
    "\n",
    "ref_ids = []\n",
    "for ann in anns:\n",
    "    print(ann['refexp_ids'])\n",
    "    ref_ids += ann['refexp_ids']\n",
    "refs = refexp.loadRefexps(ids=ref_ids)\n",
    "imgs = {im['image_id']: im for im in imgs}\n",
    "anns = {ann['annotation_id']:ann for ann in anns}\n",
    "refs = {ref['refexp_id']: ref for ref in refs}"
   ]
  },
  {
   "cell_type": "code",
   "execution_count": 44,
   "metadata": {
    "collapsed": true
   },
   "outputs": [],
   "source": [
    "import json\n",
    "\n",
    "with open('/home/dwright/repos/papers/Hu et al 2017/dwright-exp-image-ranking/img_ranking_samecat_data.json', 'w') as f:\n",
    "    json.dump({'images': imgs, 'annotations': anns, 'refexps': refs}, f)"
   ]
  },
  {
   "cell_type": "markdown",
   "metadata": {},
   "source": [
    "## Train data for computing MRR"
   ]
  },
  {
   "cell_type": "code",
   "execution_count": 2,
   "metadata": {},
   "outputs": [
    {
     "name": "stdout",
     "output_type": "stream",
     "text": [
      "loading annotations into memory...\n",
      "Done (t=11.03s)\n",
      "creating index...\n",
      "index created!\n",
      "Dataset loaded.\n"
     ]
    }
   ],
   "source": [
    "refexp_filename='google_refexp_dataset_release/google_refexp_train_201511_coco_aligned.json'\n",
    "coco_filename='external/coco/annotations/instances_train2014.json'\n",
    "\n",
    "# Create Refexp instance.\n",
    "refexp = Refexp(refexp_filename, coco_filename)"
   ]
  },
  {
   "cell_type": "code",
   "execution_count": null,
   "metadata": {},
   "outputs": [],
   "source": [
    "imgs = []\n",
    "anns = []\n",
    "\n",
    "imgIds = refexp.getImgIds()\n",
    "\n",
    "samples = np.random.choice(len(imgIds), 1000, replace=False)\n",
    "\n",
    "random_samples = [imgIds[i] for i in samples]\n",
    "imgs = refexp.loadImgs(ids=random_samples)\n",
    "\n",
    "ann_ids = refexp.getAnnIds(imgIds=random_samples)\n",
    "anns = refexp.loadAnns(ids=ann_ids)\n",
    "\n",
    "ref_ids = []\n",
    "for ann in anns:\n",
    "    print(ann['refexp_ids'])\n",
    "    ref_ids += ann['refexp_ids']\n",
    "refs = refexp.loadRefexps(ids=ref_ids)\n",
    "imgs = {im['image_id']: im for im in imgs}\n",
    "anns = {ann['annotation_id']:ann for ann in anns}\n",
    "refs = {ref['refexp_id']: ref for ref in refs}"
   ]
  },
  {
   "cell_type": "code",
   "execution_count": 5,
   "metadata": {
    "collapsed": true
   },
   "outputs": [],
   "source": [
    "import json\n",
    "\n",
    "with open('/home/dwright/repos/papers/Hu et al 2017/dwright-exp-image-ranking/img_ranking_train_1000.json', 'w') as f:\n",
    "    json.dump({'images': imgs, 'annotations': anns, 'refexps': refs}, f)"
   ]
  }
 ],
 "metadata": {
  "kernelspec": {
   "display_name": "Python 3",
   "language": "python",
   "name": "python3"
  },
  "language_info": {
   "codemirror_mode": {
    "name": "ipython",
    "version": 3
   },
   "file_extension": ".py",
   "mimetype": "text/x-python",
   "name": "python",
   "nbconvert_exporter": "python",
   "pygments_lexer": "ipython3",
   "version": "3.5.2"
  }
 },
 "nbformat": 4,
 "nbformat_minor": 2
}
